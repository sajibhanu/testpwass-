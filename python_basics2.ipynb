{
 "cells": [
  {
   "cell_type": "raw",
   "id": "8bfa5507-2a82-4c3b-922c-65adb38badbe",
   "metadata": {},
   "source": [
    "TOPIC: String Based Assignment Problem"
   ]
  },
  {
   "cell_type": "markdown",
   "id": "5bbe6ff2-275c-44fb-a2cb-2bf791896119",
   "metadata": {},
   "source": [
    "1. Write a program to reverse a string."
   ]
  },
  {
   "cell_type": "code",
   "execution_count": 2,
   "id": "d56361d8-a376-4754-9d31-1ef006cbe3b3",
   "metadata": {},
   "outputs": [
    {
     "name": "stdin",
     "output_type": "stream",
     "text": [
      "enter the string: skills\n"
     ]
    },
    {
     "name": "stdout",
     "output_type": "stream",
     "text": [
      "The string is:  slliks\n"
     ]
    }
   ],
   "source": [
    "string = input(\"enter the string:\")\n",
    "\n",
    "reverse = string[::-1]\n",
    "print(\"The string is: \",reverse)"
   ]
  },
  {
   "cell_type": "markdown",
   "id": "f37ff085-50c2-47cb-a045-d35eef6afc28",
   "metadata": {},
   "source": [
    "2. Check if a string is a palindrome."
   ]
  },
  {
   "cell_type": "code",
   "execution_count": 3,
   "id": "eed88265-83fa-478d-83f6-131ed86fb916",
   "metadata": {},
   "outputs": [
    {
     "name": "stdin",
     "output_type": "stream",
     "text": [
      "enter the string: madam\n"
     ]
    },
    {
     "name": "stdout",
     "output_type": "stream",
     "text": [
      "The string is palindrome\n"
     ]
    }
   ],
   "source": [
    "string = input(\"enter the string:\")\n",
    "reverse = string[::-1]\n",
    "\n",
    "if string == reverse:\n",
    "    print(\"The string is palindrome\")\n",
    "else:\n",
    "    print(\"The string is not palindrome\")\n",
    "    "
   ]
  },
  {
   "cell_type": "markdown",
   "id": "1f7025a9-a3fb-44ce-b839-d4fd004fe7f5",
   "metadata": {},
   "source": [
    "3. Convert a string to uppercase."
   ]
  },
  {
   "cell_type": "code",
   "execution_count": 4,
   "id": "c5c9cde8-59a9-42a4-9973-a2a984c74d80",
   "metadata": {},
   "outputs": [
    {
     "name": "stdin",
     "output_type": "stream",
     "text": [
      "enter the string: maqsood\n"
     ]
    },
    {
     "name": "stdout",
     "output_type": "stream",
     "text": [
      "the upper case of string is MAQSOOD\n"
     ]
    }
   ],
   "source": [
    "string = input(\"enter the string:\")\n",
    "print(f\"the upper case of string is {string.upper()}\")"
   ]
  },
  {
   "cell_type": "markdown",
   "id": "e06f6a4b-f549-4b68-b4d2-744f1a3501a6",
   "metadata": {},
   "source": [
    "4. Convert a string to lowercase."
   ]
  },
  {
   "cell_type": "code",
   "execution_count": 5,
   "id": "7ed3fdcb-2b26-495e-9ac6-ab837baceb32",
   "metadata": {},
   "outputs": [
    {
     "name": "stdin",
     "output_type": "stream",
     "text": [
      "enter the string: MiHaJ\n"
     ]
    },
    {
     "name": "stdout",
     "output_type": "stream",
     "text": [
      "the lowercase of string is mihaj\n"
     ]
    }
   ],
   "source": [
    "string = input(\"enter the string:\")\n",
    "print(f\"the lowercase of string is {string.lower()}\")"
   ]
  },
  {
   "cell_type": "markdown",
   "id": "2042db59-5132-4205-8b46-bda97f7dd3bd",
   "metadata": {},
   "source": [
    "5. Count the number of vowels in a string."
   ]
  },
  {
   "cell_type": "code",
   "execution_count": 11,
   "id": "431a2631-77fc-44d9-8e24-bd3c302e24af",
   "metadata": {},
   "outputs": [
    {
     "name": "stdin",
     "output_type": "stream",
     "text": [
      "enter the string: I'm greener than purple\n"
     ]
    },
    {
     "name": "stdout",
     "output_type": "stream",
     "text": [
      "the number of vovels in a string is 7\n"
     ]
    }
   ],
   "source": [
    "string = input(\"enter the string:\")\n",
    "vowels = ['a','e','i','o','u','A','E','I','O','U']\n",
    "count_of_vowels = sum(string.count(vowel) for vowel in vowels)\n",
    "print(f\"the number of vovels in a string is {count_of_vowels}\")"
   ]
  },
  {
   "cell_type": "markdown",
   "id": "ee71192c-e06c-411d-8209-33b4acf9ad83",
   "metadata": {},
   "source": [
    "6. Count the number of consonants in a string."
   ]
  },
  {
   "cell_type": "code",
   "execution_count": 18,
   "id": "ed5b9c47-00d6-42c6-bc08-229aa7b8aef1",
   "metadata": {},
   "outputs": [
    {
     "name": "stdin",
     "output_type": "stream",
     "text": [
      "enter the sentence She exercises every morning\n"
     ]
    },
    {
     "name": "stdout",
     "output_type": "stream",
     "text": [
      "15\n"
     ]
    }
   ],
   "source": [
    "s = input(\"enter the sentence\")\n",
    "temp=0\n",
    "sentence = s.lower()\n",
    "all_cons = 'bcdfghjklmnpqrstvwxyz'\n",
    "\n",
    "for i in sentence:\n",
    "    if i in all_cons:\n",
    "        temp+=1\n",
    "    \n",
    "print(temp)"
   ]
  },
  {
   "cell_type": "markdown",
   "id": "3cb46f03-36e3-49af-90af-1b8ce3a32fec",
   "metadata": {},
   "source": [
    "7. Remove all whitespaces from a string."
   ]
  },
  {
   "cell_type": "code",
   "execution_count": 21,
   "id": "7618d953-f352-46e8-827d-a57b8a3a09af",
   "metadata": {},
   "outputs": [
    {
     "name": "stdin",
     "output_type": "stream",
     "text": [
      "enter the string:  hello w orl d\n"
     ]
    },
    {
     "name": "stdout",
     "output_type": "stream",
     "text": [
      "the string after removing whitespace is helloworld\n"
     ]
    }
   ],
   "source": [
    "string = input(\"enter the string:\")\n",
    "final_string = string.replace(\" \",\"\")\n",
    "print(f\"the string after removing whitespace is {final_string}\")"
   ]
  },
  {
   "cell_type": "markdown",
   "id": "033249e2-b53a-41d9-825a-640763dc1245",
   "metadata": {},
   "source": [
    "8. Find the length of a string without using the len() function."
   ]
  },
  {
   "cell_type": "code",
   "execution_count": 1,
   "id": "060a484e-b2d0-4349-95a1-a3303f158c42",
   "metadata": {},
   "outputs": [
    {
     "name": "stdin",
     "output_type": "stream",
     "text": [
      "enter the string: abcdef\n"
     ]
    },
    {
     "name": "stdout",
     "output_type": "stream",
     "text": [
      "6\n"
     ]
    }
   ],
   "source": [
    "string = input(\"enter the string:\")\n",
    "string_length=0\n",
    "\n",
    "for i in string:\n",
    "    string_length += 1\n",
    "print(string_length)"
   ]
  },
  {
   "cell_type": "markdown",
   "id": "8354610e-7845-4e85-ab37-3f6e3fdd4583",
   "metadata": {},
   "source": [
    "9. Check if a string contains a specific word."
   ]
  },
  {
   "cell_type": "code",
   "execution_count": 2,
   "id": "cee3b19e-8e7b-41e3-83c2-5e7ab25f64a1",
   "metadata": {},
   "outputs": [
    {
     "name": "stdin",
     "output_type": "stream",
     "text": [
      "enter the string: it is a beautiful flower \n",
      "enter the word: flower \n"
     ]
    },
    {
     "name": "stdout",
     "output_type": "stream",
     "text": [
      "yes the word flower  is present in the string\n"
     ]
    }
   ],
   "source": [
    "string=input(\"enter the string:\")\n",
    "word =input(\"enter the word:\")\n",
    "\n",
    "if word in string:\n",
    "    print(f\"yes the word {word} is present in the string\")\n",
    "else:\n",
    "   print(f\"yes the word {word} is present in the string\") "
   ]
  },
  {
   "cell_type": "markdown",
   "id": "ee8a6e74-8751-42a8-869e-aa945295fd7d",
   "metadata": {},
   "source": [
    "10. Replace a word in a string with another word."
   ]
  },
  {
   "cell_type": "code",
   "execution_count": 4,
   "id": "da57bd3d-cc70-4689-8d1f-6b7f0da7bfdf",
   "metadata": {},
   "outputs": [
    {
     "name": "stdin",
     "output_type": "stream",
     "text": [
      "enter the string: it is a beautiful flower \n",
      "enter the old word: flower\n",
      "enter the new word: doll\n"
     ]
    },
    {
     "name": "stdout",
     "output_type": "stream",
     "text": [
      "it is a beautiful doll \n"
     ]
    }
   ],
   "source": [
    "string=input(\"enter the string:\")\n",
    "old_word =input(\"enter the old word:\")\n",
    "new_word =input(\"enter the new word:\")\n",
    "replace_string = string.replace(old_word,new_word)\n",
    "print(replace_string)"
   ]
  },
  {
   "cell_type": "markdown",
   "id": "2054241d-1a8d-48c5-a44f-0762599af458",
   "metadata": {},
   "source": [
    "11. Count the occurrences of a word in a string."
   ]
  },
  {
   "cell_type": "code",
   "execution_count": 1,
   "id": "3cc99686-706e-405a-9795-d40dd2bf1d9b",
   "metadata": {},
   "outputs": [
    {
     "name": "stdin",
     "output_type": "stream",
     "text": [
      "enter the string: total number of occurrences of x in s\n",
      "enter the word: of\n"
     ]
    },
    {
     "name": "stdout",
     "output_type": "stream",
     "text": [
      "2\n"
     ]
    }
   ],
   "source": [
    "string=input(\"enter the string:\")\n",
    "word=input(\"enter the word:\")\n",
    "no_of_occ=string.count(word)\n",
    "print(no_of_occ)"
   ]
  },
  {
   "cell_type": "markdown",
   "id": "c6b78e03-5456-49aa-a525-de72130f3502",
   "metadata": {},
   "source": [
    "12. Find the first occurrence of a word in a string."
   ]
  },
  {
   "cell_type": "code",
   "execution_count": 5,
   "id": "10af3aa5-2926-4e7c-b218-4e1e9db29ad0",
   "metadata": {},
   "outputs": [
    {
     "name": "stdin",
     "output_type": "stream",
     "text": [
      "enter the string: the dude is a cool dude\n",
      "enter the word: dude\n"
     ]
    },
    {
     "name": "stdout",
     "output_type": "stream",
     "text": [
      "4\n"
     ]
    }
   ],
   "source": [
    "string=input(\"enter the string:\")\n",
    "word=input(\"enter the word:\")\n",
    "no_of_1stocc=string.find(word)\n",
    "print(no_of_1stocc)"
   ]
  },
  {
   "cell_type": "markdown",
   "id": "aedcdf1b-e0bd-4f0e-bc41-b0a1f8d7bffd",
   "metadata": {},
   "source": [
    "\n",
    "13. Find the last occurrence of a word in a string."
   ]
  },
  {
   "cell_type": "code",
   "execution_count": 6,
   "id": "15e4d188-55e1-42fb-9ffa-5c9470159f6a",
   "metadata": {},
   "outputs": [
    {
     "name": "stdin",
     "output_type": "stream",
     "text": [
      "enter the string: the dude is a cool dude\n",
      "enter the word: dude\n"
     ]
    },
    {
     "name": "stdout",
     "output_type": "stream",
     "text": [
      "19\n"
     ]
    }
   ],
   "source": [
    "string=input(\"enter the string:\")\n",
    "word=input(\"enter the word:\")\n",
    "no_of_lastocc=string.rfind(word)\n",
    "print(no_of_lastocc)"
   ]
  },
  {
   "cell_type": "markdown",
   "id": "89ccf74a-b4b4-4ae0-b111-733d9086c48e",
   "metadata": {},
   "source": [
    "14. Split a string into a list of words."
   ]
  },
  {
   "cell_type": "code",
   "execution_count": 8,
   "id": "86e4a5eb-db84-463e-816e-08a2b4aadb28",
   "metadata": {
    "scrolled": true
   },
   "outputs": [
    {
     "name": "stdin",
     "output_type": "stream",
     "text": [
      "enter the string: Find the first occurrence of a word in a string\n"
     ]
    },
    {
     "name": "stdout",
     "output_type": "stream",
     "text": [
      "['Find', 'the', 'first', 'occurrence', 'of', 'a', 'word', 'in', 'a', 'string']\n"
     ]
    }
   ],
   "source": [
    "string=input(\"enter the string:\")\n",
    "list_of_words=string.split()\n",
    "print(list_of_words)"
   ]
  },
  {
   "cell_type": "markdown",
   "id": "bab76e49-dfe6-4871-827f-d7b0497ef196",
   "metadata": {},
   "source": [
    "15. Join a list of words into a string."
   ]
  },
  {
   "cell_type": "code",
   "execution_count": 19,
   "id": "4273b53d-6f7e-44cd-9f88-57ee694caba6",
   "metadata": {},
   "outputs": [
    {
     "data": {
      "text/plain": [
       "'Find the first occurrence of a word in a string'"
      ]
     },
     "execution_count": 19,
     "metadata": {},
     "output_type": "execute_result"
    }
   ],
   "source": [
    "def join(list):\n",
    "  return \" \".join(list)\n",
    "\n",
    "join(['Find', 'the', 'first', 'occurrence', 'of', 'a', 'word', 'in', 'a', 'string'])"
   ]
  },
  {
   "cell_type": "markdown",
   "id": "27d6d242-f535-43b7-bf87-c2fd1145bc54",
   "metadata": {},
   "source": [
    "16. Convert a string where words are separated by spaces to one where words are separated by underscores."
   ]
  },
  {
   "cell_type": "code",
   "execution_count": 21,
   "id": "7713a742-a6b9-4ea5-8657-94acaac61e32",
   "metadata": {},
   "outputs": [
    {
     "name": "stdin",
     "output_type": "stream",
     "text": [
      "enter the string: Convert a string where words are separated by spaces to one where words are separated by underscores.\n"
     ]
    },
    {
     "name": "stdout",
     "output_type": "stream",
     "text": [
      "Convert_a_string_where_words_are_separated_by_spaces_to_one_where_words_are_separated_by_underscores.\n"
     ]
    }
   ],
   "source": [
    "string=input(\"enter the string:\")\n",
    "print(string.replace(\" \",\"_\"))"
   ]
  },
  {
   "cell_type": "markdown",
   "id": "695e01f7-ea96-4f4a-a2a6-447afadffdea",
   "metadata": {},
   "source": [
    "17. Check if a string starts with a specific word or phrase."
   ]
  },
  {
   "cell_type": "code",
   "execution_count": null,
   "id": "78f82fb9-9b66-4c22-8f03-056181137fec",
   "metadata": {},
   "outputs": [],
   "source": []
  },
  {
   "cell_type": "markdown",
   "id": "b744404e-2f95-4d96-819d-5cff7857987e",
   "metadata": {},
   "source": [
    "18. Check if a string ends with a specific word or phrase."
   ]
  },
  {
   "cell_type": "code",
   "execution_count": null,
   "id": "cbccc0bd-a615-4907-ab07-78b1729c6e01",
   "metadata": {},
   "outputs": [],
   "source": []
  },
  {
   "cell_type": "markdown",
   "id": "5bb771e6-21df-401e-8ff0-b68958a9f7c9",
   "metadata": {},
   "source": [
    "19. Convert a string to title case (e.g., \"hello world\" to \"Hello World\")."
   ]
  },
  {
   "cell_type": "code",
   "execution_count": 22,
   "id": "8962e922-af08-4a82-8304-7866061beda8",
   "metadata": {},
   "outputs": [
    {
     "name": "stdin",
     "output_type": "stream",
     "text": [
      "enter the text: hello world\n"
     ]
    },
    {
     "name": "stdout",
     "output_type": "stream",
     "text": [
      "Hello World\n"
     ]
    }
   ],
   "source": [
    "text=input(\"enter the text:\")\n",
    "print(text.title())"
   ]
  },
  {
   "cell_type": "markdown",
   "id": "26900808-0b06-4801-8e0b-062fe1bc8976",
   "metadata": {},
   "source": [
    "20. Find the longest word in a string."
   ]
  },
  {
   "cell_type": "code",
   "execution_count": null,
   "id": "a6144847-3815-4b4e-971f-3b2c3296222a",
   "metadata": {},
   "outputs": [],
   "source": []
  }
 ],
 "metadata": {
  "kernelspec": {
   "display_name": "Python 3 (ipykernel)",
   "language": "python",
   "name": "python3"
  },
  "language_info": {
   "codemirror_mode": {
    "name": "ipython",
    "version": 3
   },
   "file_extension": ".py",
   "mimetype": "text/x-python",
   "name": "python",
   "nbconvert_exporter": "python",
   "pygments_lexer": "ipython3",
   "version": "3.10.11"
  }
 },
 "nbformat": 4,
 "nbformat_minor": 5
}
