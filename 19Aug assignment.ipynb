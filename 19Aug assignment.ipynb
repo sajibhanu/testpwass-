{
 "cells": [
  {
   "cell_type": "code",
   "execution_count": 8,
   "id": "3c1dd5d6-c141-4f64-9e72-d148e235a222",
   "metadata": {},
   "outputs": [
    {
     "name": "stdin",
     "output_type": "stream",
     "text": [
      "enter value of x: 10\n",
      "enter the value of y: 20\n"
     ]
    },
    {
     "name": "stdout",
     "output_type": "stream",
     "text": [
      "the value of x is: 20\n",
      "the value of y is : 10\n"
     ]
    }
   ],
   "source": [
    "#swap the values of x and y variables without using temporary variable\n",
    "\n",
    "\n",
    "x = input(\"enter value of x:\")\n",
    "y = input(\"enter the value of y:\")\n",
    "x , y = y , x\n",
    "print(\"the value of x is:\",x)\n",
    "\n",
    "print(\"the value of y is :\",y)"
   ]
  },
  {
   "cell_type": "code",
   "execution_count": 10,
   "id": "b6aa01cb-f446-4a79-a2f9-85e55583f33e",
   "metadata": {},
   "outputs": [
    {
     "name": "stdin",
     "output_type": "stream",
     "text": [
      "enter the value of length : 10\n",
      "enter the value of width : 20\n"
     ]
    },
    {
     "name": "stdout",
     "output_type": "stream",
     "text": [
      "area of a rectangle is: 200\n"
     ]
    }
   ],
   "source": [
    "#A program that calculates the area of a rectangle.\n",
    "\n",
    "length = int(input(\"enter the value of length :\"))\n",
    "width = int(input(\"enter the value of width :\"))\n",
    "area = length * width\n",
    "print(\"area of a rectangle is:\",area)"
   ]
  },
  {
   "cell_type": "code",
   "execution_count": 13,
   "id": "d992d02c-c7a8-47ce-b24e-b4af9d18ff9d",
   "metadata": {},
   "outputs": [
    {
     "name": "stdin",
     "output_type": "stream",
     "text": [
      "enter the celsius degree is: 32\n"
     ]
    },
    {
     "name": "stdout",
     "output_type": "stream",
     "text": [
      "celsius converted to fahrenheit : 89.6\n"
     ]
    }
   ],
   "source": [
    "# A program to converts temperatures from celsius to fahrenheit\n",
    "\n",
    "celsius = int(input(\"enter the celsius degree is:\"))\n",
    "fahrenheit = (celsius * 9/5) + 32\n",
    "print(\"celsius converted to fahrenheit :\", fahrenheit)\n"
   ]
  },
  {
   "cell_type": "code",
   "execution_count": 15,
   "id": "999a34c4-478e-4b41-8d61-0887369c98af",
   "metadata": {},
   "outputs": [
    {
     "name": "stdin",
     "output_type": "stream",
     "text": [
      "enter the string : caterpillar \n"
     ]
    },
    {
     "name": "stdout",
     "output_type": "stream",
     "text": [
      "enter the length of string : 12\n"
     ]
    }
   ],
   "source": [
    "# program to print the length of given string\n",
    "\n",
    "string = input(\"enter the string :\")\n",
    "length_of_string = len(string)\n",
    "print(\"enter the length of string :\",length_of_string)"
   ]
  },
  {
   "cell_type": "code",
   "execution_count": 16,
   "id": "d6a8bcbe-88a3-40e1-bddb-01d78790a65f",
   "metadata": {},
   "outputs": [
    {
     "name": "stdin",
     "output_type": "stream",
     "text": [
      "enter the sentence : count the vowels\n"
     ]
    },
    {
     "name": "stdout",
     "output_type": "stream",
     "text": [
      "5\n"
     ]
    }
   ],
   "source": [
    "# A program that takes a sentence from user and counts the number of vowels in thestring = input(\"enter the sentence: \")\n",
    "\n",
    "string = input(\"enter the sentence :\")\n",
    "vowels = \"aeiouAEIOU\"\n",
    "\n",
    "count = sum(string.count(vowel) for vowel in vowels )\n",
    "print(count)\n"
   ]
  },
  {
   "cell_type": "code",
   "execution_count": 17,
   "id": "2fbf3107-6410-40cc-bc7f-c119fa55a2d0",
   "metadata": {},
   "outputs": [
    {
     "name": "stdin",
     "output_type": "stream",
     "text": [
      "enter the string: string\n"
     ]
    },
    {
     "name": "stdout",
     "output_type": "stream",
     "text": [
      "the reversed string is : gnirts\n"
     ]
    }
   ],
   "source": [
    "#A program to print the reversed string using string slicing\n",
    "\n",
    "string = input(\"enter the string:\")\n",
    "reversed_string = string[ : : -1]\n",
    "print(\"the reversed string is :\", reversed_string)"
   ]
  },
  {
   "cell_type": "code",
   "execution_count": 18,
   "id": "a25098d3-dd93-4d7d-8d83-ea91e8d54d78",
   "metadata": {},
   "outputs": [
    {
     "name": "stdin",
     "output_type": "stream",
     "text": [
      "enter the string: madam\n"
     ]
    },
    {
     "name": "stdout",
     "output_type": "stream",
     "text": [
      "Palindrome\n"
     ]
    }
   ],
   "source": [
    "# A program to check the given string is palindrome or not\n",
    "\n",
    "string = input(\"enter the string:\")\n",
    "b = string.lower()\n",
    "c = b[ ::-1]\n",
    "if b == c:\n",
    "    print(\"Palindrome\")\n",
    "else:\n",
    "    print(\"Not a Palindrome\")"
   ]
  },
  {
   "cell_type": "code",
   "execution_count": 19,
   "id": "9c96c939-384b-41cc-930a-3ba9a8a1ea53",
   "metadata": {},
   "outputs": [
    {
     "name": "stdin",
     "output_type": "stream",
     "text": [
      "enter the string: the best pi z z a ever had\n"
     ]
    },
    {
     "name": "stdout",
     "output_type": "stream",
     "text": [
      "the modified string : thebestpizzaeverhad\n"
     ]
    }
   ],
   "source": [
    "# A program to remove all the spaces from the string\n",
    "\n",
    "string = input(\"enter the string:\")\n",
    "remove_space = string.replace(\" \",\"\")\n",
    "print(\"the modified string :\",remove_space)"
   ]
  },
  {
   "cell_type": "code",
   "execution_count": null,
   "id": "f4ba8554-5777-4ec6-b92e-374fdb91792f",
   "metadata": {},
   "outputs": [],
   "source": []
  }
 ],
 "metadata": {
  "kernelspec": {
   "display_name": "Python 3 (ipykernel)",
   "language": "python",
   "name": "python3"
  },
  "language_info": {
   "codemirror_mode": {
    "name": "ipython",
    "version": 3
   },
   "file_extension": ".py",
   "mimetype": "text/x-python",
   "name": "python",
   "nbconvert_exporter": "python",
   "pygments_lexer": "ipython3",
   "version": "3.10.8"
  }
 },
 "nbformat": 4,
 "nbformat_minor": 5
}
